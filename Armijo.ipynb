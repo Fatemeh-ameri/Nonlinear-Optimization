{
  "nbformat": 4,
  "nbformat_minor": 0,
  "metadata": {
    "colab": {
      "provenance": []
    },
    "kernelspec": {
      "name": "python3",
      "display_name": "Python 3"
    },
    "language_info": {
      "name": "python"
    }
  },
  "cells": [
    {
      "cell_type": "code",
      "source": [
        "import numpy as np"
      ],
      "metadata": {
        "id": "PRSycgnaVEVb"
      },
      "execution_count": 75,
      "outputs": []
    },
    {
      "cell_type": "code",
      "source": [
        "def f(x):\n",
        "    return np.sum(x ** 2)  # Example objective function"
      ],
      "metadata": {
        "id": "9R_YJLryVGrh"
      },
      "execution_count": 76,
      "outputs": []
    },
    {
      "cell_type": "code",
      "source": [
        "\n",
        "def grad_f(x):\n",
        "    return 2 * x  # Gradient of the objective function"
      ],
      "metadata": {
        "id": "XSZU1ueGVKjJ"
      },
      "execution_count": 77,
      "outputs": []
    },
    {
      "cell_type": "code",
      "source": [
        "def armijo_rule(x_k, f, grad_f, alpha, d_k, sigma=0.1, tau=0.5):\n",
        "    while True:\n",
        "        new_x = x_k + alpha * d_k\n",
        "        if f(new_x) <= f(x_k) + alpha * sigma * np.dot(grad_f(x_k), d_k):\n",
        "            return alpha\n",
        "        alpha *= tau #reduce the step size"
      ],
      "metadata": {
        "id": "Is0B8O90VNTE"
      },
      "execution_count": 78,
      "outputs": []
    },
    {
      "cell_type": "code",
      "source": [
        "x_k = np.array([10, 10])  # Example starting point\n",
        "d_k = -grad_f(x_k)  # Example search direction\n",
        "alpha = 1.0  # Initial step size\n",
        "step_size = armijo_rule(x_k, f, grad_f, alpha, d_k)\n",
        "print(\"Optimal step size:\", step_size)"
      ],
      "metadata": {
        "colab": {
          "base_uri": "https://localhost:8080/"
        },
        "id": "FkYZXCKrVRpN",
        "outputId": "f2ae2605-ca5e-4143-c84c-e24802d651fd"
      },
      "execution_count": 79,
      "outputs": [
        {
          "output_type": "stream",
          "name": "stdout",
          "text": [
            "Optimal step size: 0.5\n"
          ]
        }
      ]
    },
    {
      "cell_type": "markdown",
      "source": [
        "#Armijo(with an arbitrary objective function)"
      ],
      "metadata": {
        "id": "YasUrBEVdU8X"
      }
    },
    {
      "cell_type": "code",
      "source": [
        "import numpy as np\n",
        "import autograd.numpy as np\n",
        "from autograd import elementwise_grad\n",
        "\n",
        "def armijo_rule(x_k, func, grad_f, alpha, d_k, sigma=0.1, tau=0.5):\n",
        "    while True:\n",
        "        new_x = x_k + alpha * d_k\n",
        "        print(new_x)\n",
        "        f_new_x = func(new_x)\n",
        "        print(f_new_x)\n",
        "        f_x_k = func(x_k)\n",
        "        if np.all(f_new_x <= f_x_k + alpha * sigma * np.dot(grad_f(x_k), d_k)):\n",
        "          return alpha\n",
        "        alpha *= tau\n",
        "# Get user input for the objective function as a string\n",
        "user_func_str = input(\"Enter your objective function: f(x) = \")\n",
        "\n",
        "# Create a lambda function from the user's input string\n",
        "f = lambda x: np.array(eval(user_func_str))\n",
        "\n",
        "# Initial starting point for the algorithm\n",
        "x_k = np.array([10, 10]).astype(np.float64)\n",
        "\n",
        "# Compute the gradient using autograd elementwise_grad\n",
        "grad_f = elementwise_grad(f)\n",
        "\n",
        "# Compute the initial search direction\n",
        "d_k = -grad_f(x_k)\n",
        "\n",
        "# Initialize the step size\n",
        "alpha = 1.0\n",
        "# Find the optimal step size using the Armijo rule\n",
        "step_size = armijo_rule(x_k, f, grad_f, alpha, d_k)\n",
        "print(\"Optimal step size:\", step_size)\n"
      ],
      "metadata": {
        "colab": {
          "base_uri": "https://localhost:8080/"
        },
        "id": "PogbsPDgGSXo",
        "outputId": "5f84a25f-ced9-463a-f350-a1834065cf5c"
      },
      "execution_count": 21,
      "outputs": [
        {
          "output_type": "stream",
          "name": "stdout",
          "text": [
            "Enter your objective function: f(x) = x[0]**2\n",
            "[-10.  10.]\n",
            "100.0\n",
            "[ 0. 10.]\n",
            "0.0\n",
            "Optimal step size: 0.5\n"
          ]
        }
      ]
    }
  ]
}