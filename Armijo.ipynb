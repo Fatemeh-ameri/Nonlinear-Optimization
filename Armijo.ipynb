{
  "cells": [
    {
      "cell_type": "code",
      "execution_count": 10,
      "metadata": {
        "id": "PRSycgnaVEVb"
      },
      "outputs": [
        {
          "name": "stdout",
          "output_type": "stream",
          "text": [
            "Itration 0 =>\n",
            "x_k = 10     f(x_k)= 100\n",
            "alpha = 1\n",
            "x_k+1 = -10     f(x_k+1)= 100\n",
            "=========================\n",
            "Itration 1 =>\n",
            "x_k = 10     f(x_k)= 100\n",
            "alpha = 0.5\n",
            "x_k+1 = 0.0     f(x_k+1)= 0.0\n",
            "=========================\n",
            "Optimal step size: 0.5\n"
          ]
        }
      ],
      "source": [
        "# A simple Armijo\n",
        "# import libraries\n",
        "import numpy as np\n",
        "\n",
        "# Example objective function\n",
        "def f(x):\n",
        "    return x**2\n",
        "\n",
        "# Gradient of the objective function \n",
        "def grad_f(x):\n",
        "    return 2 *x\n",
        "\n",
        "# Armijo rule for step size selection\n",
        "# computes the parameter alpha for the step size selection using the Armijo rule\n",
        "def armijo_rule(x_k, f, grad_f, alpha, d_k, sigma=0.1, mu=0.5):\n",
        "    i = 0\n",
        "    while True:\n",
        "        new_x = x_k + alpha * d_k\n",
        "        print(f'Itration {i} =>')\n",
        "        print(f'x_k = {x_k}     f(x_k)= {f(x_k)}')\n",
        "        print(f'alpha = {alpha}')\n",
        "        print(f'x_k+1 = {new_x}     f(x_k+1)= {f(new_x)}')\n",
        "        print('=========================')\n",
        "        if f(new_x) <= f(x_k) + alpha * sigma * np.dot(grad_f(x_k), d_k):\n",
        "            return alpha\n",
        "        #reduce the step size \n",
        "        alpha *= mu\n",
        "        i += 1 \n",
        "\n",
        "# Example starting point \n",
        "x_k = 10\n",
        "# Example search direction \n",
        "d_k = -grad_f(x_k)\n",
        "# Initial step size   \n",
        "alpha = 1  \n",
        "step_size = armijo_rule(x_k, f, grad_f, alpha, d_k)\n",
        "print(\"Optimal step size:\", step_size)        "
      ]
    },
    {
      "cell_type": "code",
      "execution_count": 11,
      "metadata": {},
      "outputs": [],
      "source": [
        "import numpy as np\n",
        "import matplotlib.pyplot as plt\n",
        "\n",
        "def relu(x):\n",
        "    return np.maximum(x, 0)\n",
        "\n",
        "def f(A, x, b):\n",
        "    residual = relu(np.dot(A, x) - b)\n",
        "    return np.linalg.norm(residual)**2\n",
        "\n",
        "def grad_f(A, x, b):\n",
        "    residual = relu(np.dot(A, x) - b)\n",
        "    return 2 * np.dot(np.transpose(A), residual)\n",
        "\n",
        "def armijo_rule(A, b, x, d, grad_f, sigma=0.1, mu=0.7):\n",
        "    i =0\n",
        "    alpha = 1.0\n",
        "    while f(A, x + alpha * d, b) > f(A, x, b) + sigma * alpha * np.dot(grad_f(A, x, b).flatten(), d.flatten()):\n",
        "        alpha *= mu\n",
        "        i += 1\n",
        "    return alpha"
      ]
    },
    {
      "cell_type": "code",
      "execution_count": 12,
      "metadata": {},
      "outputs": [
        {
          "name": "stdout",
          "output_type": "stream",
          "text": [
            "Optimal step size: 5.4116956037952e-06\n"
          ]
        }
      ],
      "source": [
        "m = int(input(\"please enter n\")) \n",
        "n = int(input(\"please enter m\"))\n",
        "\n",
        "# Generate random A, x, and b\n",
        "np.random.seed(42)\n",
        "A = 10 * (np.random.randn(m, n) - np.random.randn(m, n))\n",
        "x_true = np.random.randn(n, 1) - np.random.randn(n, 1)\n",
        "b = np.dot(A, x_true) + 0.01 * np.eye(m).dot(np.maximum(np.dot(A, x_true) - np.random.randn(m, 1), 0))\n",
        "\n",
        "# Initial guess\n",
        "x0 = np.random.randn(n, 1)\n",
        "\n",
        "d = -grad_f(A, x0, b)\n",
        "step_size= armijo_rule(A, b, x0, d, grad_f)\n",
        "print(\"Optimal step size:\", step_size)"
      ]
    }
  ],
  "metadata": {
    "colab": {
      "provenance": []
    },
    "kernelspec": {
      "display_name": "Python 3",
      "name": "python3"
    },
    "language_info": {
      "codemirror_mode": {
        "name": "ipython",
        "version": 3
      },
      "file_extension": ".py",
      "mimetype": "text/x-python",
      "name": "python",
      "nbconvert_exporter": "python",
      "pygments_lexer": "ipython3",
      "version": "3.11.5"
    }
  },
  "nbformat": 4,
  "nbformat_minor": 0
}
